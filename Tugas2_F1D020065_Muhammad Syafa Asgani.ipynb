{
 "cells": [
  {
   "cell_type": "markdown",
   "metadata": {},
   "source": [
    "**Tugas1**"
   ]
  },
  {
   "cell_type": "code",
   "execution_count": null,
   "metadata": {},
   "outputs": [],
   "source": [
    "import sys\n",
    "from PyQt5.QtWidgets import QApplication, QWidget, QLabel, QComboBox, QVBoxLayout\n",
    "\n",
    "class MyWindow(QWidget):\n",
    "    def __init__(self):\n",
    "        super().__init__()\n",
    "\n",
    "        # mendefinisikan nim\n",
    "        self.nim = ['F1D020065', 'F1D020003', 'F1D020029', 'F1D020028', 'F1D020015'] \n",
    "\n",
    "        # membuat label dan combobox\n",
    "        self.label = QLabel(\"Pilih NIM :\")\n",
    "        self.cb = QComboBox()\n",
    "        self.cb.addItems(self.nim)\n",
    "        self.cb.currentIndexChanged.connect(self._on_select)\n",
    "\n",
    "        # membuat layout vertikal dan menambahkan label combobox ke layout\n",
    "        vbox = QVBoxLayout()\n",
    "        vbox.addWidget(self.label)\n",
    "        vbox.addWidget(self.cb)\n",
    "\n",
    "        self.setLayout(vbox)\n",
    "    \n",
    "    # menghubungkan currentIndexChanged pada combobox dengan menggunakan method :\n",
    "    def _on_select(self):\n",
    "        nimPilih = self.cb.currentText()\n",
    "        self.nim = nimPilih\n",
    "\n",
    "if __name__ == '__main__':\n",
    "    app = QApplication(sys.argv)\n",
    "    window = MyWindow()\n",
    "    window.show()\n",
    "    sys.exit(app.exec_())\n"
   ]
  },
  {
   "cell_type": "markdown",
   "metadata": {},
   "source": [
    "**Tugas 2**"
   ]
  },
  {
   "cell_type": "code",
   "execution_count": 1,
   "metadata": {},
   "outputs": [
    {
     "name": "stdout",
     "output_type": "stream",
     "text": [
      "NIM yang dipilih : 1\n",
      "NIM yang dipilih : 2\n",
      "NIM yang dipilih : 3\n",
      "NIM yang dipilih : 4\n",
      "NIM yang dipilih : 5\n",
      "NIM yang dipilih : 6\n",
      "NIM yang dipilih : 5\n"
     ]
    },
    {
     "ename": "SystemExit",
     "evalue": "0",
     "output_type": "error",
     "traceback": [
      "An exception has occurred, use %tb to see the full traceback.\n",
      "\u001b[1;31mSystemExit\u001b[0m\u001b[1;31m:\u001b[0m 0\n"
     ]
    },
    {
     "name": "stderr",
     "output_type": "stream",
     "text": [
      "E:\\Kuliah\\Anaconda\\lib\\site-packages\\IPython\\core\\interactiveshell.py:3452: UserWarning: To exit: use 'exit', 'quit', or Ctrl-D.\n",
      "  warn(\"To exit: use 'exit', 'quit', or Ctrl-D.\", stacklevel=1)\n"
     ]
    }
   ],
   "source": [
    "import sys\n",
    "from PyQt5.QtWidgets import QApplication, QWidget, QLabel, QSpinBox, QVBoxLayout\n",
    "\n",
    "class MyWindow(QWidget):\n",
    "    def __init__(self):\n",
    "        super().__init__()\n",
    "\n",
    "        # membuat variabel nim sesuai NIM\n",
    "        self.nim = 'F1D020065' \n",
    "\n",
    "        # mendefiniskan angka index ke-4 dan seterusnya\n",
    "        nilaiNim = int(self.nim[3:])\n",
    "\n",
    "        # mencari angka terkecil dan terbesar\n",
    "        nilaiMin = min(int(c) for c in str(nilaiNim))\n",
    "        nilaiMax = max(int(c) for c in str(nilaiNim))\n",
    "\n",
    "        # membuat label dan spinbox\n",
    "        self.label = QLabel(f\"NIM: {self.nim}\")\n",
    "        self.sp = QSpinBox()\n",
    "        self.sp.setMinimum(nilaiMin)\n",
    "        self.sp.setMaximum(nilaiMax)\n",
    "        self.sp.valueChanged.connect(self._on_change)\n",
    "\n",
    "        # membuat layout dan menambahkan label serta spinbox ke layout\n",
    "        vbox = QVBoxLayout()\n",
    "        vbox.addWidget(self.label)\n",
    "        vbox.addWidget(self.sp)\n",
    "\n",
    "        self.setLayout(vbox)\n",
    "\n",
    "    # menghubungkan method onChange() dengan signal valueChanged pada spinbox\n",
    "    def _on_change(self):\n",
    "        nimPilih = self.sp.value()\n",
    "        print(f\"NIM yang dipilih : {nimPilih}\")\n",
    "\n",
    "if __name__ == '__main__':\n",
    "    app = QApplication(sys.argv)\n",
    "    window = MyWindow()\n",
    "    window.show()\n",
    "    sys.exit(app.exec_())\n"
   ]
  }
 ],
 "metadata": {
  "interpreter": {
   "hash": "d98b2d0c4067aab6a75e70ff8997e5e50546ae3e0cc09817b10c8a5ff51655ff"
  },
  "kernelspec": {
   "display_name": "Python 3.9.7 ('base')",
   "language": "python",
   "name": "python3"
  },
  "language_info": {
   "codemirror_mode": {
    "name": "ipython",
    "version": 3
   },
   "file_extension": ".py",
   "mimetype": "text/x-python",
   "name": "python",
   "nbconvert_exporter": "python",
   "pygments_lexer": "ipython3",
   "version": "3.9.7"
  },
  "orig_nbformat": 4
 },
 "nbformat": 4,
 "nbformat_minor": 2
}
